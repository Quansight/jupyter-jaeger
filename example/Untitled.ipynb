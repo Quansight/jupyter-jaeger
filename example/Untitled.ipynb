{
 "cells": [
  {
   "cell_type": "code",
   "execution_count": 5,
   "metadata": {},
   "outputs": [],
   "source": [
    "import jaeger_client\n",
    "import time\n",
    "import opentracing\n",
    "import IPython.display"
   ]
  },
  {
   "cell_type": "code",
   "execution_count": 2,
   "metadata": {},
   "outputs": [],
   "source": [
    "jaeger_config = jaeger_client.Config(\n",
    "    config={\"sampler\": {\"type\": \"const\", \"param\": 1}, \"logging\": True},\n",
    "    service_name=\"kernel\",\n",
    "    validate=True,\n",
    ")\n",
    "\n",
    "tracer = jaeger_config.initialize_tracer()"
   ]
  },
  {
   "cell_type": "code",
   "execution_count": 7,
   "metadata": {},
   "outputs": [
    {
     "data": {
      "application/vnd.jupyter_jaeger_example.tracing+json": {
       "uber-trace-id": "63b59b4da5359661:27787ec63bf977d4:0:1"
      }
     },
     "metadata": {},
     "output_type": "display_data"
    }
   ],
   "source": [
    "span = tracer.start_span(\"In code cell\")\n",
    "time.sleep(1)\n",
    "span.finish()\n",
    "\n",
    "injected_span = {}\n",
    "tracer.inject(span, opentracing.Format.TEXT_MAP, injected_span)\n",
    "IPython.display.display({\n",
    "    \"application/vnd.jupyter_jaeger_example.tracing+json\": injected_span\n",
    "}, raw=True)"
   ]
  },
  {
   "cell_type": "code",
   "execution_count": null,
   "metadata": {},
   "outputs": [],
   "source": []
  }
 ],
 "metadata": {
  "kernelspec": {
   "display_name": "Python 3",
   "language": "python",
   "name": "python3"
  },
  "language_info": {
   "codemirror_mode": {
    "name": "ipython",
    "version": 3
   },
   "file_extension": ".py",
   "mimetype": "text/x-python",
   "name": "python",
   "nbconvert_exporter": "python",
   "pygments_lexer": "ipython3",
   "version": "3.7.3"
  }
 },
 "nbformat": 4,
 "nbformat_minor": 4
}
